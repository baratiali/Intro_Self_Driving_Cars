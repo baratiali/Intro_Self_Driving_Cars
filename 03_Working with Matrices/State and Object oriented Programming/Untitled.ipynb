{
 "cells": [
  {
   "cell_type": "code",
   "execution_count": 5,
   "id": "fe1dd8a2",
   "metadata": {},
   "outputs": [
    {
     "name": "stdout",
     "output_type": "stream",
     "text": [
      "[25, 3]\n"
     ]
    }
   ],
   "source": [
    "# The predict_state function should take in a state\n",
    "# and a change in time, dt (ex. 3 for 3 seconds)\n",
    "# and it should output a new, predicted state\n",
    "# based on a constant motion model\n",
    "# This function also assumes that all units are in m, m/s, s, etc.\n",
    "\n",
    "def predict_state(state, dt):\n",
    "    # Assume that state takes the form [x, vel] i.e. [0, 50]\n",
    "    \n",
    "    ## Calculate the new position, predicted_x\n",
    "    ## Calculate the new velocity, predicted_vel\n",
    "    ## These should be calculated based on the contant motion model:\n",
    "    ## distance = x + velocity*time\n",
    "    \n",
    "    predicted_x = state[0] + state[1] * dt\n",
    "    predicted_vel = state[1]\n",
    "    \n",
    "    # Constructs the predicted state and returns it\n",
    "    predicted_state = [predicted_x, predicted_vel]\n",
    "    return predicted_state\n",
    "\n",
    "# A state and function call for testing purposes - do not delete\n",
    "# but feel free to change the values for the test variables\n",
    "test_state = [10, 3]\n",
    "test_dt = 5\n",
    "\n",
    "test_output = predict_state(test_state, test_dt)\n",
    "print(test_output)"
   ]
  },
  {
   "cell_type": "markdown",
   "id": "c0c62aff",
   "metadata": {},
   "source": [
    "### Constant Velocity\n",
    "In the first movement example, you saw that if we assumed our car was moving at a constant speed, 50 m/s, we came up with one prediction for it’s new state: at the 150 m mark, with no change in velocity."
   ]
  },
  {
   "cell_type": "code",
   "execution_count": 10,
   "id": "3a1e5280",
   "metadata": {},
   "outputs": [],
   "source": [
    "# Constant velocity case\n",
    "\n",
    "# initial variables\n",
    "x = 0\n",
    "velocity = 50\n",
    "initial_state = [x, velocity]\n",
    "\n",
    "# predicted state (after three seconds)\n",
    "# this state has a new value for x, but the same velocity as in the initial state\n",
    "dt = 3\n",
    "new_x = x + velocity*dt\n",
    "predicted_state = [new_x, velocity]  # predicted_state = [150, 50]"
   ]
  },
  {
   "cell_type": "markdown",
   "id": "905cf7a9",
   "metadata": {},
   "source": [
    " For this constant velocity model, we had:\n",
    "\n",
    "initial state =`[0, 50]`\n",
    "\n",
    "predicted state (after 3 seconds) = `[150, 50]`\n",
    "\n",
    "##### Constant Acceleration\n",
    "But in the second case, we said that the car was slowing down at a rate of 20 m/s^2 and, after 3 seconds had elapsed, we ended up with a different estimate for its state.\n",
    "\n",
    "To solve this localization problem, **we had to use a different motion model and we had to include a new value in our state: the acceleration of the car.**\n",
    "\n",
    "The motion model was for constant acceleration:\n",
    "\n",
    "`distance = velocity*dt + 0.5*acceleration*dt^2 `and\n",
    "\n",
    "`velocity = acceleration*d`\n",
    "\n",
    "The state includes acceleration in this model and looks like this:` [x, velocity, acc]`"
   ]
  },
  {
   "cell_type": "code",
   "execution_count": 11,
   "id": "32d3da86",
   "metadata": {},
   "outputs": [],
   "source": [
    "# Constant acceleration, changing velocity\n",
    "\n",
    "# initial variables\n",
    "x = 0\n",
    "velocity = 50\n",
    "acc = -20\n",
    "\n",
    "initial_state = [x, velocity, acc]\n",
    "\n",
    "# predicted state after three seconds have elapsed\n",
    "# this state has a new value for x, and a new value for velocity (but the acceleration stays the same)\n",
    "dt = 3\n",
    "\n",
    "new_x = x + velocity*dt + 0.5*acc*dt**2\n",
    "new_vel = velocity + acc*dt\n",
    "\n",
    "predicted_state = [new_x, new_vel, acc]  # predicted_state = [60, -10, -20]"
   ]
  },
  {
   "cell_type": "markdown",
   "id": "e8a322a2",
   "metadata": {},
   "source": [
    "For this constant velocity model, we had:\n",
    "\n",
    "initial state = `[0, 50]`\n",
    "\n",
    "predicted state (after 3 seconds) = `[150, 50]`\n",
    "\n",
    "**Constant Acceleration**\n",
    "But in the second case, we said that the car was slowing down at a rate of 20 m/s^2 and, after 3 seconds had elapsed, we ended up with a different estimate for its state.\n",
    "\n",
    "To solve this localization problem, we had to use a different motion model and **we had to include a new value in our state: the acceleration of the car.**\n",
    "\n",
    "The motion model was for constant acceleration:\n",
    "\n",
    "`distance = velocity*dt + 0.5*acceleration*dt^2` and\n",
    "\n",
    "`velocity = acceleration*dt`\n",
    "\n",
    "The state includes acceleration in this model and looks like this: [x, velocity, acc]."
   ]
  },
  {
   "cell_type": "code",
   "execution_count": 1,
   "id": "ff2dd2c4",
   "metadata": {},
   "outputs": [],
   "source": [
    "# Constant acceleration, changing velocity\n",
    "\n",
    "# initial variables\n",
    "x = 0\n",
    "velocity = 50\n",
    "acc = -20\n",
    "\n",
    "initial_state = [x, velocity, acc]\n",
    "\n",
    "# predicted state after three seconds have elapsed\n",
    "# this state has a new value for x, and a new value for velocity (but the acceleration stays the same)\n",
    "dt = 3\n",
    "\n",
    "new_x = x + velocity*dt + 0.5*acc*dt**2\n",
    "new_vel = velocity + acc*dt\n",
    "\n",
    "predicted_state = [new_x, new_vel, acc]  # predicted_state = [60, -10, -20]"
   ]
  },
  {
   "cell_type": "markdown",
   "id": "d5d34f76",
   "metadata": {},
   "source": [
    "For this constant acceleration model, we had:\n",
    "\n",
    "initial state = `[0, 50, -20]`\n",
    "\n",
    "predicted state (after 3 seconds) = `[60, -10, -20]`\n",
    "\n",
    "As you can see, our state and our state estimates vary based on the motion model we used and how we assumed the car was moving!\n",
    "\n",
    "**How Many State Variables?**\n",
    "\n",
    "In fact, how many variables our state requires, depends on what motion model we are using.\n",
    "\n",
    "For a constant velocity model, `x` and `velocity` will suffice.\n",
    "\n",
    "But for a constant acceleration model, you'll also need our acceleration:`acc`.\n",
    "\n",
    "But these are all just models.\n",
    "\n",
    "**The Takeaway**\n",
    "\n",
    "For our state, we always choose the smallest representation (the smallest number of variables) that will work for our model."
   ]
  },
  {
   "cell_type": "markdown",
   "id": "3572fe94",
   "metadata": {},
   "source": [
    "### Lesson Outline\n",
    "The one unifying theme in this lesson is representing and predicting state, but there are two threads that we’ll use to explore this idea.\n",
    "#### 1. Object-Oriented Programming\n",
    "On the programming side, we’ll use something called Object-Oriented Programming as a way to represent state in code. We’ll use `variables` to represent state values and we’ll create `functions` to change those values.\n",
    "#### 2. Linear Algebra\n",
    "On the mathematical side we’ll use `vectors` and `matrices` to keep track of state and change it.\n",
    "\n",
    "We’ll learn all the necessary math notation and code, as we learn more about predicting the state of a car!"
   ]
  },
  {
   "cell_type": "markdown",
   "id": "91d019d2",
   "metadata": {},
   "source": [
    "### Always Moving\n",
    "Self-driving cars constantly monitor their state. So, movement and localization have to occur in parallel.\n",
    "\n",
    "If we use a Kalman filter for localization, this means that as a car moves, the Kalman filter has to keep coming up with new state estimates. This way, the car always has an idea of where it is.\n",
    "\n",
    "Always Predicting State\n",
    "In the code below, you are given a predict_state function that takes in a current state and a change in time, dt, and returns the new state estimate (based on a constant velocity model).\n",
    "\n",
    "It will be up to you to use this function repeatedly to find the predicted_state at 5 different points in time:\n",
    "\n",
    "the initial state\n",
    "the predicted state after 2 seconds have elapsed\n",
    "the predicted state after 3 more seconds have elapsed\n",
    "the predicted state after 1 more second has elapsed\n",
    "the predicted state after 4 more seconds have elapsed\n",
    "To first three states have been given to you in code."
   ]
  },
  {
   "cell_type": "code",
   "execution_count": 5,
   "id": "18810838",
   "metadata": {},
   "outputs": [],
   "source": [
    "#---- predict state function --#\n",
    "def predict_state(state, dt):\n",
    "    # Assumes a valid state had been passed in\n",
    "    # Assumes a constant velocity model\n",
    "    x = state[0]\n",
    "    new_x = x+state[1]*dt\n",
    "    \n",
    "    # Create and return the new, predicted state\n",
    "    predicted_state = [new_x, state[1]]\n",
    "    return predicted_state"
   ]
  },
  {
   "cell_type": "code",
   "execution_count": 9,
   "id": "47b3079d",
   "metadata": {},
   "outputs": [
    {
     "ename": "ModuleNotFoundError",
     "evalue": "No module named 'functions'",
     "output_type": "error",
     "traceback": [
      "\u001b[0;31m---------------------------------------------------------------------------\u001b[0m",
      "\u001b[0;31mModuleNotFoundError\u001b[0m                       Traceback (most recent call last)",
      "Input \u001b[0;32mIn [9]\u001b[0m, in \u001b[0;36m<module>\u001b[0;34m\u001b[0m\n\u001b[0;32m----> 1\u001b[0m \u001b[38;5;28;01mfrom\u001b[39;00m \u001b[38;5;21;01mfunctions\u001b[39;00m \u001b[38;5;28;01mimport\u001b[39;00m predict_state\n\u001b[1;32m      3\u001b[0m \u001b[38;5;66;03m# predict_state takes in a state and a change in time, dt\u001b[39;00m\n\u001b[1;32m      4\u001b[0m \u001b[38;5;66;03m# So, a call might look like: new_state = predict_state(old_state, 2)\u001b[39;00m\n\u001b[1;32m      5\u001b[0m \n\u001b[1;32m      6\u001b[0m \u001b[38;5;66;03m# The car starts at position = 0, going 60 m/s\u001b[39;00m\n\u001b[1;32m      7\u001b[0m \u001b[38;5;66;03m# The initial state:\u001b[39;00m\n\u001b[1;32m      8\u001b[0m initial_state \u001b[38;5;241m=\u001b[39m [\u001b[38;5;241m10\u001b[39m, \u001b[38;5;241m60\u001b[39m]\n",
      "\u001b[0;31mModuleNotFoundError\u001b[0m: No module named 'functions'"
     ]
    }
   ],
   "source": [
    "from functions import predict_state\n",
    "\n",
    "# predict_state takes in a state and a change in time, dt\n",
    "# So, a call might look like: new_state = predict_state(old_state, 2)\n",
    "\n",
    "# The car starts at position = 0, going 60 m/s\n",
    "# The initial state:\n",
    "initial_state = [10, 60]\n",
    "\n",
    "state_est1 = predict_state(initial_state, 2)\n",
    "\n",
    "# 3 more seconds after the first estimated state\n",
    "state_est2 = predict_state(state_est1, 3)\n",
    "\n",
    "## Use the predict_state function \n",
    "## and the above variables to calculate the following states\n",
    "\n",
    "## 1 more second after the second state estimate\n",
    "state_est3 = predict_state(state_est2, 1)\n",
    "\n",
    "## 4 more seconds after the third estimated state\n",
    "state_est4 = predict_state(state_est3, 4)\n"
   ]
  },
  {
   "cell_type": "markdown",
   "id": "af7e6658",
   "metadata": {},
   "source": [
    "### Creating a Car Object\n",
    "To create a Car, which was named carla in the example. I have to:\n",
    "\n",
    "Import our car file and define a car's initial state variable, and\n",
    "Call car.Car(); a special function that initializes a Car object, and pass in the initial state variables.\n",
    "The state is defined by a position: [y, x] and a velocity, which has vertical and horizontal components: [vy, vx]. And lastly, we had to pass in a world, which is just a 2D array.\n",
    "#### Imports and Defining initial variables"
   ]
  },
  {
   "cell_type": "code",
   "execution_count": 16,
   "id": "f330f9fd",
   "metadata": {},
   "outputs": [
    {
     "ename": "ModuleNotFoundError",
     "evalue": "No module named 'numpy'",
     "output_type": "error",
     "traceback": [
      "\u001b[0;31m---------------------------------------------------------------------------\u001b[0m",
      "\u001b[0;31mModuleNotFoundError\u001b[0m                       Traceback (most recent call last)",
      "Input \u001b[0;32mIn [16]\u001b[0m, in \u001b[0;36m<module>\u001b[0;34m\u001b[0m\n\u001b[1;32m      1\u001b[0m \u001b[38;5;66;03m# Import statements\u001b[39;00m\n\u001b[0;32m----> 2\u001b[0m \u001b[38;5;28;01mimport\u001b[39;00m \u001b[38;5;21;01mnumpy\u001b[39;00m\n\u001b[1;32m      3\u001b[0m \u001b[38;5;28;01mimport\u001b[39;00m \u001b[38;5;21;01mcar\u001b[39;00m\n\u001b[1;32m      5\u001b[0m \u001b[38;5;66;03m# Declare initial variables\u001b[39;00m\n\u001b[1;32m      6\u001b[0m \u001b[38;5;66;03m# Create a 2D world of 0's\u001b[39;00m\n",
      "\u001b[0;31mModuleNotFoundError\u001b[0m: No module named 'numpy'"
     ]
    }
   ],
   "source": [
    "# Import statements\n",
    "import numpy\n",
    "import car\n",
    "\n",
    "# Declare initial variables\n",
    "# Create a 2D world of 0's\n",
    "height = 4\n",
    "width = 6\n",
    "world = np.zeros((height, width))\n",
    "\n",
    "# Define the initial car state\n",
    "initial_position = [0, 0] # [y, x] (top-left corner)\n",
    "velocity = [0, 1] # [vy, vx] (moving to the right)"
   ]
  },
  {
   "cell_type": "markdown",
   "id": "5ac4e11d",
   "metadata": {},
   "source": [
    "### Creating and Visualizing a Car!"
   ]
  },
  {
   "cell_type": "code",
   "execution_count": 17,
   "id": "c86d574e",
   "metadata": {},
   "outputs": [
    {
     "ename": "NameError",
     "evalue": "name 'car' is not defined",
     "output_type": "error",
     "traceback": [
      "\u001b[0;31m---------------------------------------------------------------------------\u001b[0m",
      "\u001b[0;31mNameError\u001b[0m                                 Traceback (most recent call last)",
      "Input \u001b[0;32mIn [17]\u001b[0m, in \u001b[0;36m<module>\u001b[0;34m\u001b[0m\n\u001b[1;32m      1\u001b[0m \u001b[38;5;66;03m# Create a car object with these initial params\u001b[39;00m\n\u001b[0;32m----> 2\u001b[0m carla \u001b[38;5;241m=\u001b[39m \u001b[43mcar\u001b[49m\u001b[38;5;241m.\u001b[39mCar(initial_position, velocity, world)\n\u001b[1;32m      4\u001b[0m \u001b[38;5;66;03m# Display the world\u001b[39;00m\n\u001b[1;32m      5\u001b[0m carla\u001b[38;5;241m.\u001b[39mdisplay_world()\n",
      "\u001b[0;31mNameError\u001b[0m: name 'car' is not defined"
     ]
    }
   ],
   "source": [
    "# Create a car object with these initial params\n",
    "carla = car.Car(initial_position, velocity, world)\n",
    "\n",
    "# Display the world\n",
    "carla.display_world()"
   ]
  },
  {
   "cell_type": "markdown",
   "id": "f9276e99",
   "metadata": {},
   "source": [
    "\n",
    "Carla's initial state at position [0,0]\n",
    "Car movement\n",
    "Carla can also move in the direction of the velocity and turnleft with the functions: move() and turn_left()."
   ]
  }
 ],
 "metadata": {
  "kernelspec": {
   "display_name": "Python 3 (ipykernel)",
   "language": "python",
   "name": "python3"
  },
  "language_info": {
   "codemirror_mode": {
    "name": "ipython",
    "version": 3
   },
   "file_extension": ".py",
   "mimetype": "text/x-python",
   "name": "python",
   "nbconvert_exporter": "python",
   "pygments_lexer": "ipython3",
   "version": "3.9.10"
  }
 },
 "nbformat": 4,
 "nbformat_minor": 5
}
