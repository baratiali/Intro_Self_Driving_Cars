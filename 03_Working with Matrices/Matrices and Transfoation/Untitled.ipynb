{
 "cells": [
  {
   "cell_type": "markdown",
   "id": "25fa319c",
   "metadata": {},
   "source": [
    "+ 1D `state = [distance, velocity]`\n",
    "+ in 2D `state = [distance_x, distance_y, velocity_x, velocity_y]`\n",
    "\n",
    "+ information about the turning angle of the vehicle and the turning rate: `state = [distance_x, distance_y, velocity_x, velocity_y, angle, angle_rate]`\n"
   ]
  },
  {
   "cell_type": "markdown",
   "id": "4618e039",
   "metadata": {},
   "source": [
    "### What is a vector? Physics versus Computer Programming\n",
    "You might have learned at some point that a vector is a measurement or quantity that has both a magnitude and a direction. Examples might be distance along a y-axis or velocity towards the north-west.\n",
    "\n",
    "But in computer programming, when we say \"vector\" we are just referring a list of values.\n",
    "\n",
    "These two ways of thinking about vectors are actually deeply related, but for this Nanodegree we're going to look at vectors from a computer science point of view.\n",
    "\n"
   ]
  },
  {
   "cell_type": "code",
   "execution_count": null,
   "id": "0d39b934",
   "metadata": {},
   "outputs": [],
   "source": []
  }
 ],
 "metadata": {
  "kernelspec": {
   "display_name": "Python 3 (ipykernel)",
   "language": "python",
   "name": "python3"
  },
  "language_info": {
   "codemirror_mode": {
    "name": "ipython",
    "version": 3
   },
   "file_extension": ".py",
   "mimetype": "text/x-python",
   "name": "python",
   "nbconvert_exporter": "python",
   "pygments_lexer": "ipython3",
   "version": "3.9.10"
  }
 },
 "nbformat": 4,
 "nbformat_minor": 5
}
