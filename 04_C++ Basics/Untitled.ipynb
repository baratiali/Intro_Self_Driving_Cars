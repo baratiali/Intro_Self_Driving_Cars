{
 "cells": [
  {
   "cell_type": "code",
   "execution_count": 1,
   "id": "427e15b1",
   "metadata": {},
   "outputs": [
    {
     "ename": "SyntaxError",
     "evalue": "invalid syntax (861601157.py, line 1)",
     "output_type": "error",
     "traceback": [
      "\u001b[0;36m  Input \u001b[0;32mIn [1]\u001b[0;36m\u001b[0m\n\u001b[0;31m    // include all libraries needed\u001b[0m\n\u001b[0m    ^\u001b[0m\n\u001b[0;31mSyntaxError\u001b[0m\u001b[0;31m:\u001b[0m invalid syntax\n"
     ]
    }
   ],
   "source": [
    "// include all libraries needed\n",
    "#include <iostream>\n",
    "\n",
    "/* \t\n",
    "*\tThese are C++ comments. There are two ways to write comments in C++.\n",
    "*\tUsing the slash with an asterisk is one way.\n",
    "*/ \n",
    "\n",
    "// Here is another way to write comments in C++\n",
    "\n",
    "/* In general, C++ code is run from a file called main.cpp\n",
    "* The implementation goes into a function called main().\n",
    "* The main() function almost always returns a zero, which provides evidence that \n",
    "* the program ran to its end.\n",
    "*/\n",
    "\n",
    "// define main function\n",
    "int main() {\n",
    "    \n",
    "    int integer_one;\n",
    "    integer_one = 5;\n",
    "    \n",
    "    // TODO: Define a variable called integer_two and assign a value of 9.\n",
    "    \n",
    "    // TODO: Calculate the sum of integer_one and integer_two \n",
    "    // and assign the result to integer_sum\n",
    "    int integer_sum;\n",
    "    \n",
    "    // outputs the results to standard out\n",
    "    std::cout << integer_sum;\n",
    "    \n",
    "    return 0;\n",
    "}\n"
   ]
  },
  {
   "cell_type": "code",
   "execution_count": 2,
   "id": "e95b3108",
   "metadata": {},
   "outputs": [
    {
     "ename": "SyntaxError",
     "evalue": "invalid syntax (2120882147.py, line 3)",
     "output_type": "error",
     "traceback": [
      "\u001b[0;36m  Input \u001b[0;32mIn [2]\u001b[0;36m\u001b[0m\n\u001b[0;31m    int main() {\u001b[0m\n\u001b[0m        ^\u001b[0m\n\u001b[0;31mSyntaxError\u001b[0m\u001b[0;31m:\u001b[0m invalid syntax\n"
     ]
    }
   ],
   "source": [
    "#include <iostream>\n",
    "\n",
    "int main() {\n",
    "    \n",
    "    // TODO: define two floating point numbers. Assign 12.07 to the\n",
    "    // first floating point number. Assign 65.102 to the \n",
    "    // second floating point number.\n",
    "    \n",
    "    \n",
    "    // TODO: Calculate the sum of the two floating point variables into\n",
    "    // the float_sum variable.\n",
    "    \n",
    "    float float_sum; \n",
    "    std::cout << float_sum << std::endl;\n",
    "    \n",
    "    // TODO: Calculate difference between the second and first number\n",
    "    // output the results to cout. \n",
    "    \n",
    "    // TODO: Calculate second_float / first_float and output the results\n",
    "    // to cout.\n",
    "    \n",
    "    // TODO: Calculate the product of the two numbers and output the results\n",
    "    // to cout.\n",
    "\n",
    "    return 0;\n",
    "}"
   ]
  },
  {
   "cell_type": "code",
   "execution_count": null,
   "id": "545690af",
   "metadata": {},
   "outputs": [],
   "source": []
  }
 ],
 "metadata": {
  "kernelspec": {
   "display_name": "Python 3 (ipykernel)",
   "language": "python",
   "name": "python3"
  },
  "language_info": {
   "codemirror_mode": {
    "name": "ipython",
    "version": 3
   },
   "file_extension": ".py",
   "mimetype": "text/x-python",
   "name": "python",
   "nbconvert_exporter": "python",
   "pygments_lexer": "ipython3",
   "version": "3.9.10"
  }
 },
 "nbformat": 4,
 "nbformat_minor": 5
}
