{
 "cells": [
  {
   "cell_type": "markdown",
   "id": "b4d6382f",
   "metadata": {},
   "source": [
    "Pattern Matching\n",
    "Now that you know how to iterate through a 2D array, your next task will be to use what you've learned to help locate a robot in a 2D world based on some sensor measurements.\n",
    "\n",
    "In this example, a robot is navigating a 4x5 orange and blue world, shown below. This robot also has a sensor that tells it the color of the square it's on top of and the color of the square directly to its right.\n",
    "\n",
    "\n",
    "<img src=\"1.png\">\n",
    "                                    2D orange and blue world grid\n",
    "\n",
    "<img src=\"2.png\">\n",
    "\n",
    "\n",
    "Robot sensing two color squares (one it's on top of, and one to its right)\n",
    "\n",
    "\n",
    "\n",
    "In Python code, the world and the sensor measurement can be represented by the following code (where 'o' stands for orange and 'b' for blue):\n",
    "\n",
    "\n",
    "\n",
    "\n"
   ]
  },
  {
   "cell_type": "code",
   "execution_count": null,
   "id": "8873e249",
   "metadata": {},
   "outputs": [],
   "source": [
    "import numpy as np\n",
    "\n",
    "world = np.array ([ ['o', 'b', 'o', 'o', 'b'],\n",
    "                    ['o', 'o', 'b', 'o', 'o'],\n",
    "                    ['b', 'o', 'o', 'b', 'o'],\n",
    "                    ['b', 'o', 'o', 'o', 'o'] ])\n",
    "measurement = ['b', 'o']"
   ]
  },
  {
   "cell_type": "markdown",
   "id": "ba0ce007",
   "metadata": {},
   "source": [
    "It's now easy for us to see that there are only a few places in the world that this robot can be, based on where the measurement lines up with color patterns on the world grid! In this exercise, it'll be up to you to find these locations programmatically.\n",
    "\n",
    "**Hint**: You'll be adding values to a list. To add indices, please use the append function and the format list_name.append ([row,column]). Further instructions can be found in the TODOs below."
   ]
  },
  {
   "cell_type": "markdown",
   "id": "28ae4a64",
   "metadata": {},
   "source": [
    "# Question"
   ]
  },
  {
   "cell_type": "code",
   "execution_count": 1,
   "id": "71c49164",
   "metadata": {},
   "outputs": [
    {
     "ename": "ModuleNotFoundError",
     "evalue": "No module named 'numpy'",
     "output_type": "error",
     "traceback": [
      "\u001b[0;31m---------------------------------------------------------------------------\u001b[0m",
      "\u001b[0;31mModuleNotFoundError\u001b[0m                       Traceback (most recent call last)",
      "Input \u001b[0;32mIn [1]\u001b[0m, in \u001b[0;36m<module>\u001b[0;34m\u001b[0m\n\u001b[0;32m----> 1\u001b[0m \u001b[38;5;28;01mimport\u001b[39;00m \u001b[38;5;21;01mnumpy\u001b[39;00m \u001b[38;5;28;01mas\u001b[39;00m \u001b[38;5;21;01mnp\u001b[39;00m\n\u001b[1;32m      3\u001b[0m \u001b[38;5;66;03m# A 4x5 robot world of characters 'o' and 'b'\u001b[39;00m\n\u001b[1;32m      4\u001b[0m world \u001b[38;5;241m=\u001b[39m np\u001b[38;5;241m.\u001b[39marray([ [\u001b[38;5;124m'\u001b[39m\u001b[38;5;124mo\u001b[39m\u001b[38;5;124m'\u001b[39m, \u001b[38;5;124m'\u001b[39m\u001b[38;5;124mb\u001b[39m\u001b[38;5;124m'\u001b[39m, \u001b[38;5;124m'\u001b[39m\u001b[38;5;124mo\u001b[39m\u001b[38;5;124m'\u001b[39m, \u001b[38;5;124m'\u001b[39m\u001b[38;5;124mo\u001b[39m\u001b[38;5;124m'\u001b[39m, \u001b[38;5;124m'\u001b[39m\u001b[38;5;124mb\u001b[39m\u001b[38;5;124m'\u001b[39m],\n\u001b[1;32m      5\u001b[0m                    [\u001b[38;5;124m'\u001b[39m\u001b[38;5;124mo\u001b[39m\u001b[38;5;124m'\u001b[39m, \u001b[38;5;124m'\u001b[39m\u001b[38;5;124mo\u001b[39m\u001b[38;5;124m'\u001b[39m, \u001b[38;5;124m'\u001b[39m\u001b[38;5;124mb\u001b[39m\u001b[38;5;124m'\u001b[39m, \u001b[38;5;124m'\u001b[39m\u001b[38;5;124mo\u001b[39m\u001b[38;5;124m'\u001b[39m, \u001b[38;5;124m'\u001b[39m\u001b[38;5;124mo\u001b[39m\u001b[38;5;124m'\u001b[39m],\n\u001b[1;32m      6\u001b[0m                    [\u001b[38;5;124m'\u001b[39m\u001b[38;5;124mb\u001b[39m\u001b[38;5;124m'\u001b[39m, \u001b[38;5;124m'\u001b[39m\u001b[38;5;124mo\u001b[39m\u001b[38;5;124m'\u001b[39m, \u001b[38;5;124m'\u001b[39m\u001b[38;5;124mo\u001b[39m\u001b[38;5;124m'\u001b[39m, \u001b[38;5;124m'\u001b[39m\u001b[38;5;124mb\u001b[39m\u001b[38;5;124m'\u001b[39m, \u001b[38;5;124m'\u001b[39m\u001b[38;5;124mo\u001b[39m\u001b[38;5;124m'\u001b[39m],\n\u001b[1;32m      7\u001b[0m                    [\u001b[38;5;124m'\u001b[39m\u001b[38;5;124mb\u001b[39m\u001b[38;5;124m'\u001b[39m, \u001b[38;5;124m'\u001b[39m\u001b[38;5;124mo\u001b[39m\u001b[38;5;124m'\u001b[39m, \u001b[38;5;124m'\u001b[39m\u001b[38;5;124mo\u001b[39m\u001b[38;5;124m'\u001b[39m, \u001b[38;5;124m'\u001b[39m\u001b[38;5;124mo\u001b[39m\u001b[38;5;124m'\u001b[39m, \u001b[38;5;124m'\u001b[39m\u001b[38;5;124mo\u001b[39m\u001b[38;5;124m'\u001b[39m] ])\n",
      "\u001b[0;31mModuleNotFoundError\u001b[0m: No module named 'numpy'"
     ]
    }
   ],
   "source": [
    "import numpy as np\n",
    "\n",
    "# A 4x5 robot world of characters 'o' and 'b'\n",
    "world = np.array([ ['o', 'b', 'o', 'o', 'b'],\n",
    "                   ['o', 'o', 'b', 'o', 'o'],\n",
    "                   ['b', 'o', 'o', 'b', 'o'],\n",
    "                   ['b', 'o', 'o', 'o', 'o'] ])\n",
    "\n",
    "# Sensor measurement\n",
    "measurement = ['b', 'o']\n",
    "\n",
    "# This function takes in the world and the sensor measurement.\n",
    "# Complete this function so that it returns the indices of the \n",
    "# likely robot locations, based on matching the measurement \n",
    "# with the color patterns in the world\n",
    "\n",
    "def find_match(world, measurement):\n",
    "    # Empty possible_locations list\n",
    "    possible_locations = []\n",
    "    \n",
    "    ## TODO: Iterate through the world \n",
    "    ## Look at two adjacent indices at a time - the square the robot is \n",
    "    ## on top of and the square to its right\n",
    "    ## (Making sure not to go past the bounds of the world)\n",
    "    \n",
    "    ## TODO: If two adjacent colors in the world match \n",
    "    ## the two colors in the sensor measurement\n",
    "    ## Add those indices to the possible_locations list\n",
    "    ## Append them in the format [row_index, column_index], i.e. [0, 0]\n",
    "    \n",
    "    return possible_locations\n",
    "   \n",
    "\n",
    "# This line runs the function and stores the output - do not delete \n",
    "locations = find_match(world, measurement)\n"
   ]
  },
  {
   "cell_type": "markdown",
   "id": "4d595f75",
   "metadata": {},
   "source": [
    "# Answer 1"
   ]
  },
  {
   "cell_type": "code",
   "execution_count": 2,
   "id": "0522257c",
   "metadata": {},
   "outputs": [
    {
     "ename": "ModuleNotFoundError",
     "evalue": "No module named 'numpy'",
     "output_type": "error",
     "traceback": [
      "\u001b[0;31m---------------------------------------------------------------------------\u001b[0m",
      "\u001b[0;31mModuleNotFoundError\u001b[0m                       Traceback (most recent call last)",
      "Input \u001b[0;32mIn [2]\u001b[0m, in \u001b[0;36m<module>\u001b[0;34m\u001b[0m\n\u001b[0;32m----> 1\u001b[0m \u001b[38;5;28;01mimport\u001b[39;00m \u001b[38;5;21;01mnumpy\u001b[39;00m \u001b[38;5;28;01mas\u001b[39;00m \u001b[38;5;21;01mnp\u001b[39;00m\n\u001b[1;32m      3\u001b[0m \u001b[38;5;66;03m# A 4x5 robot world of characters 'o' and 'b'\u001b[39;00m\n\u001b[1;32m      4\u001b[0m world \u001b[38;5;241m=\u001b[39m np\u001b[38;5;241m.\u001b[39marray([ [\u001b[38;5;124m'\u001b[39m\u001b[38;5;124mo\u001b[39m\u001b[38;5;124m'\u001b[39m, \u001b[38;5;124m'\u001b[39m\u001b[38;5;124mb\u001b[39m\u001b[38;5;124m'\u001b[39m, \u001b[38;5;124m'\u001b[39m\u001b[38;5;124mo\u001b[39m\u001b[38;5;124m'\u001b[39m, \u001b[38;5;124m'\u001b[39m\u001b[38;5;124mo\u001b[39m\u001b[38;5;124m'\u001b[39m, \u001b[38;5;124m'\u001b[39m\u001b[38;5;124mb\u001b[39m\u001b[38;5;124m'\u001b[39m],\n\u001b[1;32m      5\u001b[0m                    [\u001b[38;5;124m'\u001b[39m\u001b[38;5;124mo\u001b[39m\u001b[38;5;124m'\u001b[39m, \u001b[38;5;124m'\u001b[39m\u001b[38;5;124mo\u001b[39m\u001b[38;5;124m'\u001b[39m, \u001b[38;5;124m'\u001b[39m\u001b[38;5;124mb\u001b[39m\u001b[38;5;124m'\u001b[39m, \u001b[38;5;124m'\u001b[39m\u001b[38;5;124mo\u001b[39m\u001b[38;5;124m'\u001b[39m, \u001b[38;5;124m'\u001b[39m\u001b[38;5;124mo\u001b[39m\u001b[38;5;124m'\u001b[39m],\n\u001b[1;32m      6\u001b[0m                    [\u001b[38;5;124m'\u001b[39m\u001b[38;5;124mb\u001b[39m\u001b[38;5;124m'\u001b[39m, \u001b[38;5;124m'\u001b[39m\u001b[38;5;124mo\u001b[39m\u001b[38;5;124m'\u001b[39m, \u001b[38;5;124m'\u001b[39m\u001b[38;5;124mo\u001b[39m\u001b[38;5;124m'\u001b[39m, \u001b[38;5;124m'\u001b[39m\u001b[38;5;124mb\u001b[39m\u001b[38;5;124m'\u001b[39m, \u001b[38;5;124m'\u001b[39m\u001b[38;5;124mo\u001b[39m\u001b[38;5;124m'\u001b[39m],\n\u001b[1;32m      7\u001b[0m                    [\u001b[38;5;124m'\u001b[39m\u001b[38;5;124mb\u001b[39m\u001b[38;5;124m'\u001b[39m, \u001b[38;5;124m'\u001b[39m\u001b[38;5;124mo\u001b[39m\u001b[38;5;124m'\u001b[39m, \u001b[38;5;124m'\u001b[39m\u001b[38;5;124mo\u001b[39m\u001b[38;5;124m'\u001b[39m, \u001b[38;5;124m'\u001b[39m\u001b[38;5;124mo\u001b[39m\u001b[38;5;124m'\u001b[39m, \u001b[38;5;124m'\u001b[39m\u001b[38;5;124mo\u001b[39m\u001b[38;5;124m'\u001b[39m] ])\n",
      "\u001b[0;31mModuleNotFoundError\u001b[0m: No module named 'numpy'"
     ]
    }
   ],
   "source": [
    "import numpy as np\n",
    "\n",
    "# A 4x5 robot world of characters 'o' and 'b'\n",
    "world = np.array([ ['o', 'b', 'o', 'o', 'b'],\n",
    "                   ['o', 'o', 'b', 'o', 'o'],\n",
    "                   ['b', 'o', 'o', 'b', 'o'],\n",
    "                   ['b', 'o', 'o', 'o', 'o'] ])\n",
    "\n",
    "# Sensor measurement\n",
    "measurement = ['b', 'o']\n",
    "\n",
    "# This function takes in the world and the sensor measurement.\n",
    "# Complete this function so that it returns the indices of the \n",
    "# likely robot locations, based on matching the measurement \n",
    "# with the color patterns in the world\n",
    "\n",
    "def find_match(world, measurement):\n",
    "    \n",
    "    # Empty possible_locations list\n",
    "    possible_locations = []\n",
    "    \n",
    "    # Store the number of columns and rows in the 2D array\n",
    "    col = world.shape[1]\n",
    "    row = world.shape[0]\n",
    "    \n",
    "    # Iterate through the entire array\n",
    "    for i in range(0, row):\n",
    "        for j in range (0, col):\n",
    "            # Check that we are within the bounds of the world,\n",
    "            # since we have to check two values, this means we're at\n",
    "            # a row index < the number of columns (5) - 1\n",
    "            # In other words j < 4\n",
    "            if j < col - 1:\n",
    "                # Check if a match is found by comparing array contents\n",
    "                # and checking for equality at world[i][j] and \n",
    "                # one row to the right at world[i][j+1]\n",
    "                \n",
    "                # Values under and in front of the robot \n",
    "                under = world[i][j]\n",
    "                in_front = world[i][j+1]\n",
    "                \n",
    "                if((measurement[0] == under) and (measurement[1] == in_front)):\n",
    "                    # A match is found!\n",
    "                    # Append the index that the robot is on\n",
    "                    possible_locations.append([i,j])\n",
    "    \n",
    "    # Return the completed list\n",
    "    return possible_locations\n",
    "   \n",
    "\n",
    "# This line runs the function and stores the output - do not delete \n",
    "locations = find_match(world, measurement)\n"
   ]
  },
  {
   "cell_type": "markdown",
   "id": "4c5742d9",
   "metadata": {},
   "source": [
    "# Answer 2"
   ]
  },
  {
   "cell_type": "code",
   "execution_count": 5,
   "id": "45bd6a9c",
   "metadata": {},
   "outputs": [
    {
     "ename": "ModuleNotFoundError",
     "evalue": "No module named 'numpy'",
     "output_type": "error",
     "traceback": [
      "\u001b[0;31m---------------------------------------------------------------------------\u001b[0m",
      "\u001b[0;31mModuleNotFoundError\u001b[0m                       Traceback (most recent call last)",
      "Input \u001b[0;32mIn [5]\u001b[0m, in \u001b[0;36m<module>\u001b[0;34m\u001b[0m\n\u001b[0;32m----> 1\u001b[0m \u001b[38;5;28;01mimport\u001b[39;00m \u001b[38;5;21;01mnumpy\u001b[39;00m \u001b[38;5;28;01mas\u001b[39;00m \u001b[38;5;21;01mnp\u001b[39;00m\n\u001b[1;32m      3\u001b[0m \u001b[38;5;66;03m# A 4x5 robot world of characters 'o' and 'b'\u001b[39;00m\n\u001b[1;32m      4\u001b[0m world \u001b[38;5;241m=\u001b[39m np\u001b[38;5;241m.\u001b[39marray([ [\u001b[38;5;124m'\u001b[39m\u001b[38;5;124mo\u001b[39m\u001b[38;5;124m'\u001b[39m, \u001b[38;5;124m'\u001b[39m\u001b[38;5;124mb\u001b[39m\u001b[38;5;124m'\u001b[39m, \u001b[38;5;124m'\u001b[39m\u001b[38;5;124mo\u001b[39m\u001b[38;5;124m'\u001b[39m, \u001b[38;5;124m'\u001b[39m\u001b[38;5;124mo\u001b[39m\u001b[38;5;124m'\u001b[39m, \u001b[38;5;124m'\u001b[39m\u001b[38;5;124mb\u001b[39m\u001b[38;5;124m'\u001b[39m],\n\u001b[1;32m      5\u001b[0m                    [\u001b[38;5;124m'\u001b[39m\u001b[38;5;124mo\u001b[39m\u001b[38;5;124m'\u001b[39m, \u001b[38;5;124m'\u001b[39m\u001b[38;5;124mo\u001b[39m\u001b[38;5;124m'\u001b[39m, \u001b[38;5;124m'\u001b[39m\u001b[38;5;124mb\u001b[39m\u001b[38;5;124m'\u001b[39m, \u001b[38;5;124m'\u001b[39m\u001b[38;5;124mo\u001b[39m\u001b[38;5;124m'\u001b[39m, \u001b[38;5;124m'\u001b[39m\u001b[38;5;124mo\u001b[39m\u001b[38;5;124m'\u001b[39m],\n\u001b[1;32m      6\u001b[0m                    [\u001b[38;5;124m'\u001b[39m\u001b[38;5;124mb\u001b[39m\u001b[38;5;124m'\u001b[39m, \u001b[38;5;124m'\u001b[39m\u001b[38;5;124mo\u001b[39m\u001b[38;5;124m'\u001b[39m, \u001b[38;5;124m'\u001b[39m\u001b[38;5;124mo\u001b[39m\u001b[38;5;124m'\u001b[39m, \u001b[38;5;124m'\u001b[39m\u001b[38;5;124mb\u001b[39m\u001b[38;5;124m'\u001b[39m, \u001b[38;5;124m'\u001b[39m\u001b[38;5;124mo\u001b[39m\u001b[38;5;124m'\u001b[39m],\n\u001b[1;32m      7\u001b[0m                    [\u001b[38;5;124m'\u001b[39m\u001b[38;5;124mb\u001b[39m\u001b[38;5;124m'\u001b[39m, \u001b[38;5;124m'\u001b[39m\u001b[38;5;124mo\u001b[39m\u001b[38;5;124m'\u001b[39m, \u001b[38;5;124m'\u001b[39m\u001b[38;5;124mo\u001b[39m\u001b[38;5;124m'\u001b[39m, \u001b[38;5;124m'\u001b[39m\u001b[38;5;124mo\u001b[39m\u001b[38;5;124m'\u001b[39m, \u001b[38;5;124m'\u001b[39m\u001b[38;5;124mo\u001b[39m\u001b[38;5;124m'\u001b[39m] ])\n",
      "\u001b[0;31mModuleNotFoundError\u001b[0m: No module named 'numpy'"
     ]
    }
   ],
   "source": [
    "import numpy as np\n",
    "\n",
    "# A 4x5 robot world of characters 'o' and 'b'\n",
    "world = np.array([ ['o', 'b', 'o', 'o', 'b'],\n",
    "                   ['o', 'o', 'b', 'o', 'o'],\n",
    "                   ['b', 'o', 'o', 'b', 'o'],\n",
    "                   ['b', 'o', 'o', 'o', 'o'] ])\n",
    "\n",
    "# Sensor measurement\n",
    "measurement = ['b', 'o']\n",
    "\n",
    "def find_match(world, measurement):\n",
    "    \n",
    "    # Empty possible_locations list\n",
    "    possible_locations = []\n",
    "    for y in range(world.shape[0]):\n",
    "        for x in range(world.shape[1]):\n",
    "            # if we are at the edge then we can't\n",
    "            # look ahead. Use the \"continue\" statement\n",
    "            # to proceed to the next step in the loop.\n",
    "            if x == (world.shape[1]-1):\n",
    "                continue\n",
    "            \n",
    "            m_under = world[y,x]   # get measurement UNDER robot\n",
    "            m_front = world[y,x+1] # measurement in front of robot\n",
    "            if [m_under, m_front] == measurement:\n",
    "                possible_locations.append([y,x])\n",
    "    \n",
    "    return possible_locations\n",
    "   \n",
    "\n",
    "# This line runs the function and stores the output - do not delete \n",
    "locations = find_match(world, measurement)\n",
    "\n"
   ]
  }
 ],
 "metadata": {
  "kernelspec": {
   "display_name": "Python 3 (ipykernel)",
   "language": "python",
   "name": "python3"
  },
  "language_info": {
   "codemirror_mode": {
    "name": "ipython",
    "version": 3
   },
   "file_extension": ".py",
   "mimetype": "text/x-python",
   "name": "python",
   "nbconvert_exporter": "python",
   "pygments_lexer": "ipython3",
   "version": "3.9.10"
  }
 },
 "nbformat": 4,
 "nbformat_minor": 5
}
