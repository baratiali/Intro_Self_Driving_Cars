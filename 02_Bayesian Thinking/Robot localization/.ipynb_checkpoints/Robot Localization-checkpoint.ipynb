{
 "cells": [
  {
   "cell_type": "code",
   "execution_count": 1,
   "id": "a0b53f3c",
   "metadata": {},
   "outputs": [
    {
     "ename": "SyntaxError",
     "evalue": "invalid syntax (448676224.py, line 26)",
     "output_type": "error",
     "traceback": [
      "\u001b[0;36m  Input \u001b[0;32mIn [1]\u001b[0;36m\u001b[0m\n\u001b[0;31m    print sense(p,Z)\u001b[0m\n\u001b[0m          ^\u001b[0m\n\u001b[0;31mSyntaxError\u001b[0m\u001b[0;31m:\u001b[0m invalid syntax\n"
     ]
    }
   ],
   "source": [
    "#Modify the code below so that the function sense, which \n",
    "#takes p and Z as inputs, will output the NON-normalized \n",
    "#probability distribution, q, after multiplying the entries \n",
    "#in p by pHit or pMiss according to the color in the \n",
    "#corresponding cell in world.\n",
    "\n",
    "\n",
    "p=[0.2, 0.2, 0.2, 0.2, 0.2]\n",
    "world=['green', 'red', 'red', 'green', 'green']\n",
    "Z = 'red'\n",
    "pHit = 0.6\n",
    "pMiss = 0.2\n",
    "\n",
    "def sense(p, Z):\n",
    "    #\n",
    "    #ADD YOUR CODE HERE\n",
    "    for i in range(len(p)):\n",
    "        q = []\n",
    "        hit = (Z == world[i])\n",
    "        q.append(p[i] * (hit * pHit + (1 - hit) * pMiss))\n",
    "\n",
    "        \n",
    "    #\n",
    "    return q\n",
    "\n",
    "print sense(p,Z)"
   ]
  }
 ],
 "metadata": {
  "kernelspec": {
   "display_name": "Python 3 (ipykernel)",
   "language": "python",
   "name": "python3"
  },
  "language_info": {
   "codemirror_mode": {
    "name": "ipython",
    "version": 3
   },
   "file_extension": ".py",
   "mimetype": "text/x-python",
   "name": "python",
   "nbconvert_exporter": "python",
   "pygments_lexer": "ipython3",
   "version": "3.9.10"
  }
 },
 "nbformat": 4,
 "nbformat_minor": 5
}
