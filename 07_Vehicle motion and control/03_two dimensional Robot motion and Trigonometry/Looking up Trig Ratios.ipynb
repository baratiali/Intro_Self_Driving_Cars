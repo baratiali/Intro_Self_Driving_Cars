{
 "cells": [
  {
   "cell_type": "markdown",
   "metadata": {},
   "source": [
    "# Looking up Trig Ratios\n",
    "There are three ways you could find the value of a trig function at a particular angle.\n",
    "\n",
    "**1. Use a table** - This is how engineers used to find trig ratios before the days of computers. For example, from the table below I can see that $\\sin(60)=0.866$\n",
    "\n",
    "| angle | sin | cos | tan |\n",
    "| :---: | :---: | :---: | :---: |\n",
    "| 0 | 0.000 | 1.000 | 0.000 |\n",
    "| 10 | 0.174 | 0.985 | 0.176 |\n",
    "| 20 | 0.342 | 0.940 | 0.364 |\n",
    "| 30 | 0.500 | 0.866 | 0.577 |\n",
    "| 40 | 0.643 | 0.766 | 0.839 |\n",
    "| 50 | 0.766 | 0.643 | 1.192 |\n",
    "| 60 | 0.866 | 0.500 | 1.732 |\n",
    "| 70 | 0.940 | 0.342 | 2.747 |\n",
    "| 80 | 0.985 | 0.174 | 5.671 |\n",
    "\n",
    "The problem with this technique is that there will always be gaps in a table. \n",
    "\n",
    "**2. Use a graph** - One way to try to fill these gaps is by consulting a graph of a trigonometric function. For example, the image below shows a plot of $\\sin(\\theta)$ for $0 \\leq \\theta \\leq 360$\n",
    "\n",
    "![](https://d17h27t6h515a5.cloudfront.net/topher/2017/December/5a2efe68_sine/sine.png)\n",
    "\n",
    "These graphs are nice because they give a good visual sense for how these ratios behave, but they aren't great for getting accurate values. Which leads us to the **best** way to look up trig ratios...\n",
    "\n",
    "**3. Use a computer!** This probably isn't a surprise, but python has built in functions to calculate sine, cosine, and tangent... \n",
    "\n",
    "In fact, you can even type \"sin(60 degrees)\" into **Google** and you'll get the correct answer!\n",
    "\n",
    "![](https://d17h27t6h515a5.cloudfront.net/topher/2017/December/5a2f0062_img-1742/img-1742.jpg)\n",
    "\n",
    "Note how I wrote in \"sin(60 degrees)\" instead of just \"sin(60)\". That's because these functions generally expect their input to be in **radians**. \n",
    "\n",
    "Now let's calculate these ratios with Python."
   ]
  },
  {
   "cell_type": "code",
   "execution_count": 1,
   "metadata": {},
   "outputs": [
    {
     "name": "stdout",
     "output_type": "stream",
     "text": [
      "-0.3048106211022167\n"
     ]
    }
   ],
   "source": [
    "# Python's math module has functions called sin, cos, and tan\n",
    "# as well as the constant \"pi\" (which we will find useful shortly)\n",
    "from math import sin, cos, tan, pi\n",
    "\n",
    "# Run this cell. What do you expect the output to be?\n",
    "print(sin(60))"
   ]
  },
  {
   "cell_type": "markdown",
   "metadata": {},
   "source": [
    "Did the output match what you expected?\n",
    "\n",
    "If not, it's probably because we didn't convert our angle to radians. \n",
    "\n",
    "### EXERCISE 1 - Write a function that converts degrees to radians\n",
    "\n",
    "Implement the following math in code:\n",
    "\n",
    "$$\\theta_{\\text{radians}} = \\theta_{\\text{degrees}} \\times \\frac{\\pi}{180}$$\n"
   ]
  },
  {
   "cell_type": "code",
   "execution_count": null,
   "metadata": {},
   "outputs": [],
   "source": [
    "from math import pi\n",
    "def deg2rad(theta):\n",
    "    \"\"\"Converts degrees to radians\"\"\"\n",
    "    # TODO - implement this function (solution\n",
    "    #    code at end of notebook)\n",
    "\n",
    "assert(deg2rad(45.0) == pi / 4)\n",
    "assert(deg2rad(90.0) == pi / 2)\n",
    "print(\"Nice work! Your degrees to radians function works!\")\n",
    "\n",
    "for theta in [0, 30, 45, 60, 90]:\n",
    "    theta_rad = deg2rad(theta)\n",
    "    sin_theta = sin(theta_rad)\n",
    "    print(\"sin(\", theta, \"degrees) =\", sin_theta)"
   ]
  },
  {
   "cell_type": "markdown",
   "metadata": {},
   "source": [
    "### EXERCISE 2 - Make plots of cosine and tangent"
   ]
  },
  {
   "cell_type": "code",
   "execution_count": null,
   "metadata": {},
   "outputs": [],
   "source": [
    "import numpy as np\n",
    "from matplotlib import pyplot as plt\n",
    "def plot_sine(min_theta, max_theta):\n",
    "    \"\"\"\n",
    "    Generates a plot of sin(theta) between min_theta\n",
    "    and max_theta (both of which are specified in degrees).\n",
    "    \"\"\"\n",
    "    angles_degrees = np.linspace(min_theta, max_theta)\n",
    "    angles_radians = deg2rad(angles_degrees)\n",
    "    values = np.sin(angles_radians)\n",
    "    X = angles_degrees\n",
    "    Y = values\n",
    "    plt.plot(X,Y)\n",
    "    plt.show()\n",
    "    \n",
    "# EXERCISE 2.1 Implement this! Try not to look at the\n",
    "#  implementation of plot_sine TOO much...\n",
    "def plot_cosine(min_theta, max_theta):\n",
    "    \"\"\"\n",
    "    Generates a plot of sin(theta) between min_theta\n",
    "    and max_theta (both of which are specified in degrees).\n",
    "    \"\"\"\n",
    "    pass"
   ]
  },
  {
   "cell_type": "code",
   "execution_count": null,
   "metadata": {},
   "outputs": [],
   "source": [
    "plot_sine(0, 360)"
   ]
  },
  {
   "cell_type": "code",
   "execution_count": null,
   "metadata": {},
   "outputs": [],
   "source": [
    "plot_cosine(0, 360)"
   ]
  },
  {
   "cell_type": "code",
   "execution_count": 2,
   "metadata": {},
   "outputs": [],
   "source": [
    "#\n",
    "\n",
    "#\n",
    "\n",
    "#\n",
    "\n",
    "#\n",
    "\n",
    "# SOLUTION CODE\n",
    "\n",
    "#\n",
    "\n",
    "#\n",
    "\n",
    "#\n",
    "\n",
    "#\n",
    "from math import pi\n",
    "def deg2rad_solution(theta):\n",
    "    \"\"\"Converts degrees to radians\"\"\"\n",
    "    return theta * pi / 180\n",
    "\n",
    "assert(deg2rad_solution(45.0) == pi / 4)\n",
    "assert(deg2rad_solution(90.0) == pi / 2)\n",
    "\n",
    "import numpy as np\n",
    "from matplotlib import pyplot as plt\n",
    "def plot_cosine_solution(min_theta, max_theta):\n",
    "    \"\"\"\n",
    "    Generates a plot of sin(theta) between min_theta\n",
    "    and max_theta (both of which are specified in degrees).\n",
    "    \"\"\"\n",
    "    angles_degrees = np.linspace(min_theta, max_theta)\n",
    "    angles_radians = deg2rad_solution(angles_degrees)\n",
    "    values = np.cos(angles_radians)\n",
    "    X = angles_degrees\n",
    "    Y = values\n",
    "    plt.plot(X,Y)\n",
    "    plt.show()"
   ]
  },
  {
   "cell_type": "code",
   "execution_count": 6,
   "metadata": {},
   "outputs": [
    {
     "data": {
      "image/png": "[encoded data removed]",
      "text/plain": [
       "<matplotlib.figure.Figure at 0x7f3ffb3b06a0>"
      ]
     },
     "metadata": {
      "needs_background": "light"
     },
     "output_type": "display_data"
    }
   ],
   "source": [
    "plot_cosine_solution(0, 360)"
   ]
  },
  {
   "cell_type": "code",
   "execution_count": null,
   "metadata": {},
   "outputs": [],
   "source": []
  }
 ],
 "metadata": {
  "kernelspec": {
   "display_name": "Python 3",
   "language": "python",
   "name": "python3"
  },
  "language_info": {
   "codemirror_mode": {
    "name": "ipython",
    "version": 3
   },
   "file_extension": ".py",
   "mimetype": "text/x-python",
   "name": "python",
   "nbconvert_exporter": "python",
   "pygments_lexer": "ipython3",
   "version": "3.6.3"
  }
 },
 "nbformat": 4,
 "nbformat_minor": 2
}
